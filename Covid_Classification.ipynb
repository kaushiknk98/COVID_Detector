{
  "nbformat": 4,
  "nbformat_minor": 0,
  "metadata": {
    "colab": {
      "name": "Project2.ipynb",
      "provenance": [],
      "collapsed_sections": []
    },
    "kernelspec": {
      "name": "python3",
      "display_name": "Python 3"
    },
    "language_info": {
      "name": "python"
    },
    "accelerator": "TPU"
  },
  "cells": [
    {
      "cell_type": "code",
      "metadata": {
        "colab": {
          "base_uri": "https://localhost:8080/"
        },
        "id": "7jFS0cWAj59g",
        "outputId": "04e57acd-9b90-4924-e48b-d53d6285006f"
      },
      "source": [
        "!pip install rarfile\n",
        "import os\n",
        "import urllib.request\n",
        "import requests\n",
        "import rarfile"
      ],
      "execution_count": 1,
      "outputs": [
        {
          "output_type": "stream",
          "text": [
            "Requirement already satisfied: rarfile in /usr/local/lib/python3.7/dist-packages (4.0)\n"
          ],
          "name": "stdout"
        }
      ]
    },
    {
      "cell_type": "code",
      "metadata": {
        "id": "8lDkBIvuktu-"
      },
      "source": [
        "url = 'https://personal.utdallas.edu/~qxl170330/Dataset/COVID-19/'\n",
        "page = requests.get(url).text"
      ],
      "execution_count": 2,
      "outputs": []
    },
    {
      "cell_type": "code",
      "metadata": {
        "id": "dD42hDx1k_Qv"
      },
      "source": [
        "import tensorflow as tf"
      ],
      "execution_count": 3,
      "outputs": []
    },
    {
      "cell_type": "code",
      "metadata": {
        "id": "_P1Tw6aWlDHV"
      },
      "source": [
        "from urllib.request import urlretrieve\n",
        "DATA_DIR_1        = 'data'\n",
        "DATA_FILE_TRAIN_1 = 'Train1.rar'\n",
        "DATA_URL_TRAIN_1  = 'https://personal.utdallas.edu/~qxl170330/Dataset/DatasetAllAugmented.rar'\n",
        "DATA_DIR_TRAIN    = 'data/imagenet64/train'\n",
        "\n",
        "if (os.path.exists(DATA_DIR_1) == False):\n",
        "    os.mkdir(DATA_DIR_1)\n",
        "if (os.path.exists(DATA_FILE_TRAIN_1) == False):\n",
        "    urllib.request.urlretrieve(DATA_URL_TRAIN_1, DATA_FILE_TRAIN_1)\n",
        "with rarfile.RarFile(DATA_FILE_TRAIN_1, 'r') as rar_ref:\n",
        "    rar_ref.extractall(DATA_DIR_TRAIN)"
      ],
      "execution_count": 4,
      "outputs": []
    },
    {
      "cell_type": "code",
      "metadata": {
        "colab": {
          "base_uri": "https://localhost:8080/"
        },
        "id": "n5GHYtaXlGwF",
        "outputId": "8ba56ec0-71af-45ba-bd2d-555e6cccfaab"
      },
      "source": [
        "datagen = tf.keras.preprocessing.image.ImageDataGenerator(validation_split=0.2)\n",
        "train = datagen.flow_from_directory(DATA_DIR_TRAIN + '/DatasetAllAugmented',\n",
        "                                    class_mode='binary', target_size=(32,32), subset=\"training\")\n",
        "test = datagen.flow_from_directory(DATA_DIR_TRAIN + '/DatasetAllAugmented',\n",
        "                                    class_mode='binary', target_size=(32,32), subset=\"validation\")"
      ],
      "execution_count": 5,
      "outputs": [
        {
          "output_type": "stream",
          "text": [
            "Found 1460 images belonging to 2 classes.\n",
            "Found 364 images belonging to 2 classes.\n"
          ],
          "name": "stdout"
        }
      ]
    },
    {
      "cell_type": "code",
      "metadata": {
        "colab": {
          "base_uri": "https://localhost:8080/"
        },
        "id": "1LLG054Y5yXa",
        "outputId": "8323f5e5-19bb-425f-c2fc-3e2c821ee89b"
      },
      "source": [
        "batchX, batchy = train.next()\n",
        "print('Batch shape=%s, min=%.3f, max=%.3f' % (batchX.shape, batchX.min(), batchX.max()))"
      ],
      "execution_count": 6,
      "outputs": [
        {
          "output_type": "stream",
          "text": [
            "Batch shape=(32, 32, 32, 3), min=0.000, max=255.000\n"
          ],
          "name": "stdout"
        }
      ]
    },
    {
      "cell_type": "code",
      "metadata": {
        "colab": {
          "base_uri": "https://localhost:8080/"
        },
        "id": "p46kDvM26Zd6",
        "outputId": "b2e2dc4c-9a57-47f8-e498-5084d60e5c7c"
      },
      "source": [
        "model = tf.keras.Sequential([\n",
        "    tf.keras.layers.Flatten(),\n",
        "    tf.keras.layers.Dense(128, activation='relu'),\n",
        "    tf.keras.layers.Dense(128, activation='softmax'),\n",
        "    tf.keras.layers.Dense(2)\n",
        "])\n",
        "\n",
        "model.compile(optimizer='adam',\n",
        "              loss=tf.keras.losses.SparseCategoricalCrossentropy(from_logits=True),\n",
        "              metrics=['accuracy'])\n",
        "\n",
        "\n",
        "history = model.fit_generator(train, epochs=8)\n"
      ],
      "execution_count": 7,
      "outputs": [
        {
          "output_type": "stream",
          "text": [
            "/usr/local/lib/python3.7/dist-packages/tensorflow/python/keras/engine/training.py:1844: UserWarning: `Model.fit_generator` is deprecated and will be removed in a future version. Please use `Model.fit`, which supports generators.\n",
            "  warnings.warn('`Model.fit_generator` is deprecated and '\n"
          ],
          "name": "stderr"
        },
        {
          "output_type": "stream",
          "text": [
            "Epoch 1/8\n",
            "46/46 [==============================] - 8s 170ms/step - loss: 0.6935 - accuracy: 0.5005\n",
            "Epoch 2/8\n",
            "46/46 [==============================] - 8s 173ms/step - loss: 0.6936 - accuracy: 0.4923\n",
            "Epoch 3/8\n",
            "46/46 [==============================] - 8s 172ms/step - loss: 0.6933 - accuracy: 0.4965\n",
            "Epoch 4/8\n",
            "46/46 [==============================] - 8s 174ms/step - loss: 0.6931 - accuracy: 0.5114\n",
            "Epoch 5/8\n",
            "46/46 [==============================] - 8s 170ms/step - loss: 0.6933 - accuracy: 0.4810\n",
            "Epoch 6/8\n",
            "46/46 [==============================] - 8s 174ms/step - loss: 0.6932 - accuracy: 0.4820\n",
            "Epoch 7/8\n",
            "46/46 [==============================] - 8s 173ms/step - loss: 0.6932 - accuracy: 0.4993\n",
            "Epoch 8/8\n",
            "46/46 [==============================] - 8s 174ms/step - loss: 0.6933 - accuracy: 0.4882\n"
          ],
          "name": "stdout"
        }
      ]
    },
    {
      "cell_type": "code",
      "metadata": {
        "colab": {
          "base_uri": "https://localhost:8080/"
        },
        "id": "tlIshpmrI9gN",
        "outputId": "79289162-fba7-4c10-f8c5-547d764ffa00"
      },
      "source": [
        "model.summary()"
      ],
      "execution_count": 8,
      "outputs": [
        {
          "output_type": "stream",
          "text": [
            "Model: \"sequential\"\n",
            "_________________________________________________________________\n",
            "Layer (type)                 Output Shape              Param #   \n",
            "=================================================================\n",
            "flatten (Flatten)            (None, None)              0         \n",
            "_________________________________________________________________\n",
            "dense (Dense)                (None, 128)               393344    \n",
            "_________________________________________________________________\n",
            "dense_1 (Dense)              (None, 128)               16512     \n",
            "_________________________________________________________________\n",
            "dense_2 (Dense)              (None, 2)                 258       \n",
            "=================================================================\n",
            "Total params: 410,114\n",
            "Trainable params: 410,114\n",
            "Non-trainable params: 0\n",
            "_________________________________________________________________\n"
          ],
          "name": "stdout"
        }
      ]
    },
    {
      "cell_type": "code",
      "metadata": {
        "colab": {
          "base_uri": "https://localhost:8080/"
        },
        "id": "CJEXPM_5HSgK",
        "outputId": "44ebc4a1-a599-4163-eb01-de58598170a6"
      },
      "source": [
        "model.evaluate(test)"
      ],
      "execution_count": 9,
      "outputs": [
        {
          "output_type": "stream",
          "text": [
            "12/12 [==============================] - 2s 160ms/step - loss: 0.6931 - accuracy: 0.5000\n"
          ],
          "name": "stdout"
        },
        {
          "output_type": "execute_result",
          "data": {
            "text/plain": [
              "[0.6931476593017578, 0.5]"
            ]
          },
          "metadata": {
            "tags": []
          },
          "execution_count": 9
        }
      ]
    },
    {
      "cell_type": "code",
      "metadata": {
        "colab": {
          "base_uri": "https://localhost:8080/",
          "height": 295
        },
        "id": "wZiTN2wHpV6U",
        "outputId": "2ccd1c34-914d-4819-ce06-60abbcb3e0e1"
      },
      "source": [
        "import matplotlib.pyplot as plt\n",
        "plt.plot(history.history['accuracy'])\n",
        "plt.title('model accuracy')\n",
        "plt.ylabel('accuracy')\n",
        "plt.xlabel('epoch')\n",
        "plt.legend(['train', 'test'], loc='upper right')\n",
        "plt.show()"
      ],
      "execution_count": 10,
      "outputs": [
        {
          "output_type": "display_data",
          "data": {
            "image/png": "[encoded data removed]",
            "text/plain": [
              "<Figure size 432x288 with 1 Axes>"
            ]
          },
          "metadata": {
            "tags": [],
            "needs_background": "light"
          }
        }
      ]
    },
    {
      "cell_type": "code",
      "metadata": {
        "colab": {
          "base_uri": "https://localhost:8080/",
          "height": 295
        },
        "id": "4D61xRENrJeN",
        "outputId": "20d57dca-889e-4aff-9d05-a423f9117bee"
      },
      "source": [
        "plt.plot(history.history['loss'])\n",
        "plt.title('model loss')\n",
        "plt.ylabel('loss')\n",
        "plt.xlabel('epoch')\n",
        "plt.legend(['train', 'test'], loc='upper right')\n",
        "plt.show()"
      ],
      "execution_count": 11,
      "outputs": [
        {
          "output_type": "display_data",
          "data": {
            "image/png": "[encoded data removed]",
            "text/plain": [
              "<Figure size 432x288 with 1 Axes>"
            ]
          },
          "metadata": {
            "tags": [],
            "needs_background": "light"
          }
        }
      ]
    },
    {
      "cell_type": "code",
      "metadata": {
        "colab": {
          "base_uri": "https://localhost:8080/",
          "height": 1000
        },
        "id": "6TkktM4PrtF-",
        "outputId": "db08b041-1ae5-404c-e3b4-a17974af1926"
      },
      "source": [
        "import numpy as np\n",
        "x,y = test.next()\n",
        "for i in range(0,5):\n",
        "    image = x[i]\n",
        "    img = image[np.newaxis,:,:]\n",
        "    plt.imshow(x[i].astype('uint8'))\n",
        "    print(\"Actual: \", y[i])\n",
        "    print(\"Predicted : \",model.predict(img))\n",
        "    plt.show()"
      ],
      "execution_count": 12,
      "outputs": [
        {
          "output_type": "stream",
          "text": [
            "Actual:  1.0\n",
            "Predicted :  [[-0.15559416 -0.15755387]]\n"
          ],
          "name": "stdout"
        },
        {
          "output_type": "display_data",
          "data": {
            "image/png": "[encoded data removed]",
            "text/plain": [
              "<Figure size 432x288 with 1 Axes>"
            ]
          },
          "metadata": {
            "tags": [],
            "needs_background": "light"
          }
        },
        {
          "output_type": "stream",
          "text": [
            "Actual:  0.0\n",
            "Predicted :  [[-0.15559416 -0.15755387]]\n"
          ],
          "name": "stdout"
        },
        {
          "output_type": "display_data",
          "data": {
            "image/png": "[encoded data removed]",
            "text/plain": [
              "<Figure size 432x288 with 1 Axes>"
            ]
          },
          "metadata": {
            "tags": [],
            "needs_background": "light"
          }
        },
        {
          "output_type": "stream",
          "text": [
            "Actual:  0.0\n",
            "Predicted :  [[-0.15559416 -0.15755387]]\n"
          ],
          "name": "stdout"
        },
        {
          "output_type": "display_data",
          "data": {
            "image/png": "[encoded data removed]",
            "text/plain": [
              "<Figure size 432x288 with 1 Axes>"
            ]
          },
          "metadata": {
            "tags": [],
            "needs_background": "light"
          }
        },
        {
          "output_type": "stream",
          "text": [
            "Actual:  1.0\n",
            "Predicted :  [[-0.15559416 -0.15755387]]\n"
          ],
          "name": "stdout"
        },
        {
          "output_type": "display_data",
          "data": {
            "image/png": "[encoded data removed]",
            "text/plain": [
              "<Figure size 432x288 with 1 Axes>"
            ]
          },
          "metadata": {
            "tags": [],
            "needs_background": "light"
          }
        },
        {
          "output_type": "stream",
          "text": [
            "Actual:  0.0\n",
            "Predicted :  [[-0.15559416 -0.15755387]]\n"
          ],
          "name": "stdout"
        },
        {
          "output_type": "display_data",
          "data": {
            "image/png": "[encoded data removed]",
            "text/plain": [
              "<Figure size 432x288 with 1 Axes>"
            ]
          },
          "metadata": {
            "tags": [],
            "needs_background": "light"
          }
        }
      ]
    },
    {
      "cell_type": "code",
      "metadata": {
        "id": "GpIUD662dPoi"
      },
      "source": [
        ""
      ],
      "execution_count": 12,
      "outputs": []
    }
  ]
}